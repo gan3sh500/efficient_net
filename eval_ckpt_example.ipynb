{
 "cells": [
  {
   "cell_type": "markdown",
   "metadata": {
    "colab_type": "text",
    "id": "CpynCqcAT-un"
   },
   "source": [
    "# Prerequisites (set up tensorflow/tpu and checkpoints)"
   ]
  },
  {
   "cell_type": "code",
   "execution_count": 1,
   "metadata": {
    "colab": {},
    "colab_type": "code",
    "id": "f6wokJU2OpdD"
   },
   "outputs": [],
   "source": [
    "from __future__ import print_function\n",
    "from IPython import display\n",
    "display.clear_output()\n",
    "\n",
    "model_name = 'efficientnet-b0' #@param"
   ]
  },
  {
   "cell_type": "markdown",
   "metadata": {
    "colab_type": "text",
    "id": "-M06NcURR-2O"
   },
   "source": [
    "\n",
    "# Inference example with pretrained model checkpoint.\n"
   ]
  },
  {
   "cell_type": "code",
   "execution_count": 4,
   "metadata": {
    "colab": {
     "base_uri": "https://localhost:8080/",
     "height": 309
    },
    "colab_type": "code",
    "id": "lOoibMxKVyAX",
    "outputId": "893d39e9-085b-455e-c276-03be338449c0"
   },
   "outputs": [
    {
     "ename": "ModuleNotFoundError",
     "evalue": "No module named 'eval_ckpt_main'",
     "output_type": "error",
     "traceback": [
      "\u001b[1;31m---------------------------------------------------------------------------\u001b[0m",
      "\u001b[1;31mModuleNotFoundError\u001b[0m                       Traceback (most recent call last)",
      "\u001b[1;32m<ipython-input-4-5720c41303cd>\u001b[0m in \u001b[0;36m<module>\u001b[1;34m\u001b[0m\n\u001b[1;32m----> 1\u001b[1;33m \u001b[1;32mimport\u001b[0m  \u001b[0meval_ckpt_main\u001b[0m \u001b[1;32mas\u001b[0m \u001b[0meval_ckpt\u001b[0m\u001b[1;33m\u001b[0m\u001b[1;33m\u001b[0m\u001b[0m\n\u001b[0m\u001b[0;32m      2\u001b[0m \u001b[1;32mimport\u001b[0m \u001b[0mtensorflow\u001b[0m \u001b[1;32mas\u001b[0m \u001b[0mtf\u001b[0m\u001b[1;33m\u001b[0m\u001b[1;33m\u001b[0m\u001b[0m\n\u001b[0;32m      3\u001b[0m \u001b[1;33m\u001b[0m\u001b[0m\n\u001b[0;32m      4\u001b[0m \u001b[0mimage_file\u001b[0m \u001b[1;33m=\u001b[0m \u001b[1;34m'panda.jpg'\u001b[0m\u001b[1;33m\u001b[0m\u001b[1;33m\u001b[0m\u001b[0m\n\u001b[0;32m      5\u001b[0m \u001b[0mckpt_dir\u001b[0m \u001b[1;33m=\u001b[0m \u001b[1;34m'gs://cloud-tpu-checkpoints/efficientnet/{}'\u001b[0m\u001b[1;33m.\u001b[0m\u001b[0mformat\u001b[0m\u001b[1;33m(\u001b[0m\u001b[0mmodel_name\u001b[0m\u001b[1;33m)\u001b[0m\u001b[1;33m\u001b[0m\u001b[1;33m\u001b[0m\u001b[0m\n",
      "\u001b[1;31mModuleNotFoundError\u001b[0m: No module named 'eval_ckpt_main'"
     ]
    }
   ],
   "source": [
    "import  eval_ckpt_main as eval_ckpt\n",
    "import tensorflow as tf\n",
    "\n",
    "image_file = 'panda.jpg'\n",
    "ckpt_dir = 'gs://cloud-tpu-checkpoints/efficientnet/{}'.format(model_name)\n",
    "labels_map_file = 'gs://cloud-tpu-checkpoints/efficientnet/eval_data/labels_map.txt'\n",
    "\n",
    "\n",
    "image_files = [image_file]\n",
    "pred_idx, pred_prob = eval_ckpt.eval_example_images(\n",
    "    model_name, ckpt_dir, image_files, labels_map_file)"
   ]
  },
  {
   "cell_type": "code",
   "execution_count": null,
   "metadata": {},
   "outputs": [],
   "source": [
    "w"
   ]
  }
 ],
 "metadata": {
  "colab": {
   "collapsed_sections": [],
   "name": "EfficientNet inference example.ipynb",
   "provenance": [],
   "version": "0.3.2"
  },
  "kernelspec": {
   "display_name": "Python 3",
   "language": "python",
   "name": "python3"
  },
  "language_info": {
   "codemirror_mode": {
    "name": "ipython",
    "version": 3
   },
   "file_extension": ".py",
   "mimetype": "text/x-python",
   "name": "python",
   "nbconvert_exporter": "python",
   "pygments_lexer": "ipython3",
   "version": "3.7.3"
  }
 },
 "nbformat": 4,
 "nbformat_minor": 1
}
